{
 "cells": [
  {
   "cell_type": "code",
   "execution_count": 1,
   "id": "aware-turning",
   "metadata": {},
   "outputs": [],
   "source": [
    "import gym\n",
    "\n",
    "import numpy as np\n",
    "import random\n",
    "from collections import namedtuple, deque\n",
    "import pandas as pd\n",
    "import matplotlib.pyplot as plt\n",
    "\n",
    "from Agent import Agent\n",
    "\n",
    "import torch\n",
    "import torch.nn as nn\n",
    "import torch.nn.functional as F\n",
    "import torch.optim as optim"
   ]
  },
  {
   "cell_type": "code",
   "execution_count": 2,
   "id": "wicked-hours",
   "metadata": {},
   "outputs": [],
   "source": [
    "sum_gradients = {}\n",
    "def reset_avg_gradients():\n",
    "    for name, param in agent.local_model.to(device).named_parameters():\n",
    "        sum_gradients[name] = torch.zeros(size=param.size()).to(device)"
   ]
  },
  {
   "cell_type": "code",
   "execution_count": 3,
   "id": "amber-option",
   "metadata": {},
   "outputs": [],
   "source": [
    "def calc_avg_gradients(agent):\n",
    "    gradients = {}\n",
    "    for name, param in agent.local_model.to(device).named_parameters():\n",
    "        gradients[name] = param.grad\n",
    "        sum_gradients[name] += gradients[name] \n",
    "    #print(\"========Set Gradients = \",gradients)"
   ]
  },
  {
   "cell_type": "code",
   "execution_count": 4,
   "id": "tutorial-disorder",
   "metadata": {},
   "outputs": [],
   "source": [
    "def set_new_gradients(sum_gradients,agent):\n",
    "    gradients = {}\n",
    "    for name, param in agent.local_model.to(device).named_parameters():\n",
    "        param.grad = sum_gradients[name] / no_of_clients\n",
    "        gradients[name] = param.grad\n",
    "    #print(\"GRADIENTS SET\")\n",
    "    #print(gradients)"
   ]
  },
  {
   "cell_type": "code",
   "execution_count": 5,
   "id": "super-leadership",
   "metadata": {},
   "outputs": [],
   "source": [
    "def get_gradients(agent):\n",
    "    gradients = {}\n",
    "    for name, param in agent.local_model.to(device).named_parameters():\n",
    "        gradients[name] = param.grad\n",
    "        #print(\"name = \",name)\n",
    "        #print(\"param = \",param)        \n",
    "        #print(\"param.grad = \",param.grad)\n",
    "    #print(gradients)"
   ]
  },
  {
   "cell_type": "code",
   "execution_count": 9,
   "id": "included-embassy",
   "metadata": {},
   "outputs": [
    {
     "name": "stdout",
     "output_type": "stream",
     "text": [
      "State shape:  8\n",
      "Number of actions:  4\n",
      "<Agent.Agent object at 0x0000021EBD6A03C8>\n",
      "<Agent.Agent object at 0x0000021EBD6A04A8>\n",
      "<Agent.Agent object at 0x0000021EBD671EF0>\n",
      "<Agent.Agent object at 0x0000021EBD6D0C18>\n"
     ]
    }
   ],
   "source": [
    "environment = 'LunarLander-v2'\n",
    "env = gym.make(environment)\n",
    "env.seed(0)\n",
    "state_size = env.observation_space.shape[0]\n",
    "action_size = env.action_space.n\n",
    "print('State shape: ', state_size)\n",
    "print('Number of actions: ', action_size)\n",
    "device = torch.device(\"cuda:0\" if torch.cuda.is_available() else \"cpu\")\n",
    "no_of_clients = 4\n",
    "clients = []\n",
    "fed_rounds = 2\n",
    "episode_per_fed = 4\n",
    "max_steps=1000          #max number of steps in an episode\n",
    "eps_start=1.0           #starting epsilon value\n",
    "eps_end=0.01            #minimum epsilon value\n",
    "eps_decay=0.995 \n",
    "        \n",
    "\n",
    "for i in range(no_of_clients):\n",
    "    agent = Agent(state_size=state_size, action_size=action_size, seed=i)\n",
    "    clients.append(agent)\n",
    "    \n",
    "for i in range(no_of_clients):\n",
    "    print(clients[i])"
   ]
  },
  {
   "cell_type": "code",
   "execution_count": 10,
   "id": "convenient-alpha",
   "metadata": {
    "scrolled": false
   },
   "outputs": [],
   "source": [
    "def dqn(agent,clientID,fed_round):\n",
    "      # last 100 scores\n",
    "    #self.eps = self.eps_start                    # initialize epsilon\n",
    "    for i_episode in range(1, episode_per_fed+1):\n",
    "        state = env.reset()\n",
    "        score = 0\n",
    "        for t in range(max_steps):\n",
    "            action = agent.act(state, agent.eps)\n",
    "            next_state, reward, done, _ = env.step(action)\n",
    "            agent.step(state, action, reward, next_state, done)\n",
    "            state = next_state\n",
    "            score += reward\n",
    "            if done:\n",
    "                break \n",
    "        agent.scores_window.append(score)       # save most recent score\n",
    "        agent.scores.append(score)              # save most recent score\n",
    "        agent.eps = max(agent.eps_end, agent.eps_decay*agent.eps) # decrease epsilon\n",
    "        print('\\rfed round {} client {} Episode {}\\tAverage Score: {:.2f}'.format(fed_round,clientID,i_episode, np.mean(agent.scores_window)), end=\"\")\n",
    "        if i_episode % 100 == 0:\n",
    "            print('\\rfed round {} client {} Episode {}\\tAverage Score: {:.2f}'.format(fed_round,clientID,i_episode, np.mean(agent.scores_window)))\n",
    "            "
   ]
  },
  {
   "cell_type": "code",
   "execution_count": 11,
   "id": "flexible-novelty",
   "metadata": {
    "scrolled": false
   },
   "outputs": [
    {
     "ename": "NameError",
     "evalue": "name 'self' is not defined",
     "output_type": "error",
     "traceback": [
      "\u001b[1;31m---------------------------------------------------------------------------\u001b[0m",
      "\u001b[1;31mNameError\u001b[0m                                 Traceback (most recent call last)",
      "\u001b[1;32m<ipython-input-11-76b9cd42343e>\u001b[0m in \u001b[0;36m<module>\u001b[1;34m\u001b[0m\n\u001b[0;32m      2\u001b[0m     \u001b[0mreset_avg_gradients\u001b[0m\u001b[1;33m(\u001b[0m\u001b[1;33m)\u001b[0m\u001b[1;33m\u001b[0m\u001b[1;33m\u001b[0m\u001b[0m\n\u001b[0;32m      3\u001b[0m     \u001b[1;32mfor\u001b[0m \u001b[0mi\u001b[0m \u001b[1;32min\u001b[0m \u001b[0mrange\u001b[0m\u001b[1;33m(\u001b[0m\u001b[0mno_of_clients\u001b[0m\u001b[1;33m)\u001b[0m\u001b[1;33m:\u001b[0m\u001b[1;33m\u001b[0m\u001b[1;33m\u001b[0m\u001b[0m\n\u001b[1;32m----> 4\u001b[1;33m         \u001b[0mdqn\u001b[0m\u001b[1;33m(\u001b[0m\u001b[0mclients\u001b[0m\u001b[1;33m[\u001b[0m\u001b[0mi\u001b[0m\u001b[1;33m]\u001b[0m\u001b[1;33m,\u001b[0m\u001b[0mi\u001b[0m\u001b[1;33m,\u001b[0m\u001b[0mf\u001b[0m\u001b[1;33m)\u001b[0m\u001b[1;33m\u001b[0m\u001b[1;33m\u001b[0m\u001b[0m\n\u001b[0m\u001b[0;32m      5\u001b[0m         \u001b[0mget_gradients\u001b[0m\u001b[1;33m(\u001b[0m\u001b[0mclients\u001b[0m\u001b[1;33m[\u001b[0m\u001b[0mi\u001b[0m\u001b[1;33m]\u001b[0m\u001b[1;33m)\u001b[0m\u001b[1;33m\u001b[0m\u001b[1;33m\u001b[0m\u001b[0m\n\u001b[0;32m      6\u001b[0m         \u001b[0mcalc_avg_gradients\u001b[0m\u001b[1;33m(\u001b[0m\u001b[0mclients\u001b[0m\u001b[1;33m[\u001b[0m\u001b[0mi\u001b[0m\u001b[1;33m]\u001b[0m\u001b[1;33m)\u001b[0m\u001b[1;33m\u001b[0m\u001b[1;33m\u001b[0m\u001b[0m\n",
      "\u001b[1;32m<ipython-input-10-394a9975ac36>\u001b[0m in \u001b[0;36mdqn\u001b[1;34m(agent, clientID, fed_round)\u001b[0m\n\u001b[0;32m      6\u001b[0m         \u001b[0mscore\u001b[0m \u001b[1;33m=\u001b[0m \u001b[1;36m0\u001b[0m\u001b[1;33m\u001b[0m\u001b[1;33m\u001b[0m\u001b[0m\n\u001b[0;32m      7\u001b[0m         \u001b[1;32mfor\u001b[0m \u001b[0mt\u001b[0m \u001b[1;32min\u001b[0m \u001b[0mrange\u001b[0m\u001b[1;33m(\u001b[0m\u001b[0mmax_steps\u001b[0m\u001b[1;33m)\u001b[0m\u001b[1;33m:\u001b[0m\u001b[1;33m\u001b[0m\u001b[1;33m\u001b[0m\u001b[0m\n\u001b[1;32m----> 8\u001b[1;33m             \u001b[0maction\u001b[0m \u001b[1;33m=\u001b[0m \u001b[0magent\u001b[0m\u001b[1;33m.\u001b[0m\u001b[0mact\u001b[0m\u001b[1;33m(\u001b[0m\u001b[0mstate\u001b[0m\u001b[1;33m,\u001b[0m \u001b[0mself\u001b[0m\u001b[1;33m.\u001b[0m\u001b[0meps\u001b[0m\u001b[1;33m)\u001b[0m\u001b[1;33m\u001b[0m\u001b[1;33m\u001b[0m\u001b[0m\n\u001b[0m\u001b[0;32m      9\u001b[0m             \u001b[0mnext_state\u001b[0m\u001b[1;33m,\u001b[0m \u001b[0mreward\u001b[0m\u001b[1;33m,\u001b[0m \u001b[0mdone\u001b[0m\u001b[1;33m,\u001b[0m \u001b[0m_\u001b[0m \u001b[1;33m=\u001b[0m \u001b[0menv\u001b[0m\u001b[1;33m.\u001b[0m\u001b[0mstep\u001b[0m\u001b[1;33m(\u001b[0m\u001b[0maction\u001b[0m\u001b[1;33m)\u001b[0m\u001b[1;33m\u001b[0m\u001b[1;33m\u001b[0m\u001b[0m\n\u001b[0;32m     10\u001b[0m             \u001b[0magent\u001b[0m\u001b[1;33m.\u001b[0m\u001b[0mstep\u001b[0m\u001b[1;33m(\u001b[0m\u001b[0mstate\u001b[0m\u001b[1;33m,\u001b[0m \u001b[0maction\u001b[0m\u001b[1;33m,\u001b[0m \u001b[0mreward\u001b[0m\u001b[1;33m,\u001b[0m \u001b[0mnext_state\u001b[0m\u001b[1;33m,\u001b[0m \u001b[0mdone\u001b[0m\u001b[1;33m)\u001b[0m\u001b[1;33m\u001b[0m\u001b[1;33m\u001b[0m\u001b[0m\n",
      "\u001b[1;31mNameError\u001b[0m: name 'self' is not defined"
     ]
    }
   ],
   "source": [
    "for f in range(fed_rounds):\n",
    "    reset_avg_gradients()\n",
    "    for i in range(no_of_clients):\n",
    "        dqn(clients[i],i,f)\n",
    "        get_gradients(clients[i])\n",
    "        calc_avg_gradients(clients[i])\n",
    "    #print(\"\\nsum gradients = \",sum_gradients)\n",
    "    #print(\"\\n\\n\")\n",
    "    for i in range(no_of_clients):\n",
    "        set_new_gradients(sum_gradients,clients[i])\n",
    "    "
   ]
  },
  {
   "cell_type": "code",
   "execution_count": null,
   "id": "guided-float",
   "metadata": {},
   "outputs": [],
   "source": [
    "########################playing the lunar lander######################################\n",
    "# def final_play():\n",
    "#     for e in range(4):\n",
    "#         state = env.reset()\n",
    "#         done = False\n",
    "#         while not done:\n",
    "#             env.render()\n",
    "#             action = agent.act(state)\n",
    "#             next_state, reward, done, _ = env.step(action)\n",
    "#             agent.step(state, action, reward, next_state, done)\n",
    "#             state = next_state\n",
    "#final_play()\n",
    "#env.close()"
   ]
  },
  {
   "cell_type": "code",
   "execution_count": null,
   "id": "public-watson",
   "metadata": {},
   "outputs": [],
   "source": [
    "def moving_average(vec,window_size):    \n",
    "\n",
    "    numbers_series = pd.Series(vec)\n",
    "    windows = numbers_series.rolling(window_size)\n",
    "    moving_averages = windows.mean()\n",
    "    moving_averages_list = moving_averages.tolist()\n",
    "    averaged_v = moving_averages_list[window_size - 1:]\n",
    "    return(averaged_v)\n",
    "\n",
    "window_size = 100\n",
    "averaged_ = moving_average(scores,window_size)"
   ]
  },
  {
   "cell_type": "code",
   "execution_count": null,
   "id": "velvet-trail",
   "metadata": {},
   "outputs": [],
   "source": [
    "def plot_graphs(values1,values2,xstring,ystring,title): \n",
    "  \n",
    "    y1 = values1\n",
    "    y2 = values2\n",
    "    x1 = [i for i in range(0,len(values1))]\n",
    "    x2 = [i for i in range(0,len(values2))]\n",
    "    plt.plot(x1,y1)\n",
    "    plt.plot(x2,y2,linewidth = 4)\n",
    "    plt.xlabel(xstring) # naming the x axis      \n",
    "    plt.ylabel(ystring) # naming the y axis\n",
    "    plt.title(title) \n",
    "\n",
    "    plt.show()\n",
    "plot_graphs(scores,averaged_,'epsiodes','rewards',' rewards vs episodes')"
   ]
  },
  {
   "cell_type": "code",
   "execution_count": null,
   "id": "integrated-beast",
   "metadata": {},
   "outputs": [],
   "source": []
  }
 ],
 "metadata": {
  "kernelspec": {
   "display_name": "Python 3",
   "language": "python",
   "name": "python3"
  },
  "language_info": {
   "codemirror_mode": {
    "name": "ipython",
    "version": 3
   },
   "file_extension": ".py",
   "mimetype": "text/x-python",
   "name": "python",
   "nbconvert_exporter": "python",
   "pygments_lexer": "ipython3",
   "version": "3.6.13"
  }
 },
 "nbformat": 4,
 "nbformat_minor": 5
}
