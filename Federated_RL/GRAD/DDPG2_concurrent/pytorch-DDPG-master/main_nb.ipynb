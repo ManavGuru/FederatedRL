{
 "cells": [
  {
   "cell_type": "code",
   "execution_count": 1,
   "id": "color-chest",
   "metadata": {},
   "outputs": [],
   "source": [
    "import argparse\n",
    "import os\n",
    "import gym\n",
    "from gym import wrappers\n",
    "from config import Config\n",
    "from core.normalized_env import NormalizedEnv\n",
    "from core.util import time_seq, load_obj\n",
    "from ddpg import DDPG\n",
    "from tester import Tester\n",
    "from trainer import Trainer"
   ]
  },
  {
   "cell_type": "code",
   "execution_count": 2,
   "id": "double-moment",
   "metadata": {
    "scrolled": false
   },
   "outputs": [
    {
     "name": "stderr",
     "output_type": "stream",
     "text": [
      "usage: ipykernel_launcher.py [-h] [--train] [--test] [--env ENV]\n",
      "                             [--gamma GAMMA] [--episodes EPISODES]\n",
      "                             [--batch_size BATCH_SIZE] [--epsilon EPSILON]\n",
      "                             [--eps_decay EPS_DECAY] [--max_buff MAX_BUFF]\n",
      "                             [--output OUTPUT] [--cuda]\n",
      "                             [--model_path MODEL_PATH]\n",
      "                             [--load_config LOAD_CONFIG] [--customize_step]\n",
      "                             [--max_steps MAX_STEPS] [--record]\n",
      "                             [--record_ep_interval RECORD_EP_INTERVAL]\n",
      "                             [--checkpoint]\n",
      "                             [--checkpoint_interval CHECKPOINT_INTERVAL]\n",
      "                             [--retrain] [--retrain_model RETRAIN_MODEL]\n",
      "ipykernel_launcher.py: error: unrecognized arguments: -f C:\\Users\\anany\\AppData\\Roaming\\jupyter\\runtime\\kernel-24dd74d5-7d4c-41ee-bb8b-2362d0f1764d.json\n"
     ]
    },
    {
     "ename": "SystemExit",
     "evalue": "2",
     "output_type": "error",
     "traceback": [
      "An exception has occurred, use %tb to see the full traceback.\n",
      "\u001b[1;31mSystemExit\u001b[0m\u001b[1;31m:\u001b[0m 2\n"
     ]
    },
    {
     "name": "stderr",
     "output_type": "stream",
     "text": [
      "C:\\Users\\anany\\Anaconda3\\envs\\env36\\lib\\site-packages\\IPython\\core\\interactiveshell.py:3351: UserWarning: To exit: use 'exit', 'quit', or Ctrl-D.\n",
      "  warn(\"To exit: use 'exit', 'quit', or Ctrl-D.\", stacklevel=1)\n"
     ]
    }
   ],
   "source": [
    "parser = argparse.ArgumentParser(description='')\n",
    "parser.add_argument('--train', dest='train', action='store_true', help='train model')\n",
    "parser.add_argument('--test', dest='test', action='store_true', help='test model')\n",
    "parser.add_argument('--env', default='Pendulum-v0', type=str, help='gym environment')\n",
    "parser.add_argument('--gamma', default=0.99, type=float, help='discount')\n",
    "parser.add_argument('--episodes', default=3, type=int)\n",
    "parser.add_argument('--batch_size', default=128, type=int)\n",
    "parser.add_argument('--epsilon', default=1.0, type=float, help='noise epsilon')\n",
    "parser.add_argument('--eps_decay', default=0.001, type=float, help='epsilon decay')\n",
    "parser.add_argument('--max_buff', default=1000000, type=int, help='replay buff size')\n",
    "parser.add_argument('--output', default='out', type=str, help='result output dir')\n",
    "parser.add_argument('--cuda', dest='cuda', action='store_true', help='use cuda')\n",
    "parser.add_argument('--model_path', type=str, help='if test mode, import the model')\n",
    "parser.add_argument('--load_config', type=str, help='load the config from obj file')\n",
    "\n",
    "step_group = parser.add_argument_group('step')\n",
    "step_group.add_argument('--customize_step', dest='customize_step', action='store_true', help='customize max step per episode')\n",
    "step_group.add_argument('--max_steps', default=1000, type=int, help='max steps per episode')\n",
    "\n",
    "record_group = parser.add_argument_group('record')\n",
    "record_group.add_argument('--record', dest='record', action='store_true', help='record the video')\n",
    "record_group.add_argument('--record_ep_interval', default=20, type=int, help='record episodes interval')\n",
    "\n",
    "checkpoint_group = parser.add_argument_group('checkpoint')\n",
    "checkpoint_group.add_argument('--checkpoint', dest='checkpoint', action='store_true', help='use model checkpoint')\n",
    "checkpoint_group.add_argument('--checkpoint_interval', default=500, type=int, help='checkpoint interval')\n",
    "\n",
    "retrain_group = parser.add_argument_group('retrain')\n",
    "retrain_group.add_argument('--retrain', dest='retrain', action='store_true', help='retrain model')\n",
    "retrain_group.add_argument('--retrain_model', type=str, help='retrain model path')\n",
    "\n",
    "args = parser.parse_args()\n",
    "config = Config()\n",
    "config.env = args.env\n",
    "# config.env = 'MountainCarContinuous-v0'\n",
    "# Pendulum-v0 # Walker2d-v2 # HalfCheetah-v1\n",
    "config.gamma = args.gamma\n",
    "config.episodes = args.episodes\n",
    "config.max_steps = args.max_steps\n",
    "config.batch_size = args.batch_size\n",
    "config.epsilon = args.epsilon\n",
    "config.eps_decay = args.eps_decay\n",
    "config.max_buff = args.max_buff\n",
    "config.output = args.output\n",
    "config.use_cuda = args.cuda\n",
    "config.checkpoint = args.checkpoint\n",
    "config.checkpoint_interval = args.checkpoint_interval\n",
    "\n",
    "config.learning_rate = 1e-3\n",
    "config.learning_rate_actor = 1e-4\n",
    "config.epsilon_min = 0.001\n",
    "config.epsilon = 1.0\n",
    "config.tau = 0.001"
   ]
  },
  {
   "cell_type": "code",
   "execution_count": null,
   "id": "silver-cathedral",
   "metadata": {},
   "outputs": [],
   "source": [
    "# env = gym.make() is limited by TimeLimit, there is a default max step.\n",
    "# If you want to control the max step every episode, do env = gym.make(config.env).env\n",
    "env = None\n",
    "if args.customize_step:\n",
    "    env = gym.make(config.env).env\n",
    "else:\n",
    "    env = gym.make(config.env)\n",
    "\n",
    "env = NormalizedEnv(env)\n",
    "config.action_dim = int(env.action_space.shape[0])\n",
    "config.action_lim = float(env.action_space.high[0])\n",
    "config.state_dim = int(env.observation_space.shape[0])\n",
    "\n",
    "print(\"env = \",env)\n",
    "\n",
    "if args.load_config is not None:\n",
    "        config = load_obj(args.load_config)\n",
    "\n",
    "agent = DDPG(config)\n",
    "trainer = Trainer(agent, env, config,\n",
    "                      record=args.record)\n",
    "trainer.train()\n",
    "print(\"rewards = \",agent.all_rewards)"
   ]
  }
 ],
 "metadata": {
  "kernelspec": {
   "display_name": "Python 3",
   "language": "python",
   "name": "python3"
  },
  "language_info": {
   "codemirror_mode": {
    "name": "ipython",
    "version": 3
   },
   "file_extension": ".py",
   "mimetype": "text/x-python",
   "name": "python",
   "nbconvert_exporter": "python",
   "pygments_lexer": "ipython3",
   "version": "3.6.13"
  }
 },
 "nbformat": 4,
 "nbformat_minor": 5
}
